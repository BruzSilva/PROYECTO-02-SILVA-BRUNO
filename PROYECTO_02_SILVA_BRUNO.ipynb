{
 "cells": [
  {
   "cell_type": "markdown",
   "id": "5853a87f",
   "metadata": {},
   "source": [
    "Se inicia llamando las librerias pandas y seaborn"
   ]
  },
  {
   "cell_type": "code",
   "execution_count": 1,
   "id": "10e236e0",
   "metadata": {},
   "outputs": [],
   "source": [
    "import pandas as pd\n",
    "import seaborn as sns"
   ]
  },
  {
   "cell_type": "markdown",
   "id": "0c52aa14",
   "metadata": {},
   "source": [
    "Se llama el archivo del que se va a extraer la información"
   ]
  },
  {
   "cell_type": "code",
   "execution_count": 2,
   "id": "e6d8ec46",
   "metadata": {},
   "outputs": [],
   "source": [
    "filelocation='Data/'\n",
    "fileName='synergy_logistics_database.csv'\n",
    "synergyDataFrame= pd.read_csv(filelocation+fileName, index_col='register_id')"
   ]
  },
  {
   "cell_type": "markdown",
   "id": "6bbc30f1",
   "metadata": {},
   "source": [
    "Se preparan las columnas necesarias para organizar la infromación y se omiten las que no son reelevantes para el proyecto"
   ]
  },
  {
   "cell_type": "code",
   "execution_count": 3,
   "id": "9ef8b78e",
   "metadata": {},
   "outputs": [],
   "source": [
    "necesarioDataFrame=synergyDataFrame[['direction', 'origin', 'destination', 'transport_mode', 'total_value']]\n",
    "#necesarioDataFrame"
   ]
  },
  {
   "cell_type": "markdown",
   "id": "cb1cc434",
   "metadata": {},
   "source": [
    "Se comienza el conteo de las rutas"
   ]
  },
  {
   "cell_type": "code",
   "execution_count": 4,
   "id": "dc6ccb82",
   "metadata": {},
   "outputs": [
    {
     "data": {
      "text/html": [
       "<div>\n",
       "<style scoped>\n",
       "    .dataframe tbody tr th:only-of-type {\n",
       "        vertical-align: middle;\n",
       "    }\n",
       "\n",
       "    .dataframe tbody tr th {\n",
       "        vertical-align: top;\n",
       "    }\n",
       "\n",
       "    .dataframe thead th {\n",
       "        text-align: right;\n",
       "    }\n",
       "</style>\n",
       "<table border=\"1\" class=\"dataframe\">\n",
       "  <thead>\n",
       "    <tr style=\"text-align: right;\">\n",
       "      <th></th>\n",
       "      <th></th>\n",
       "      <th></th>\n",
       "      <th></th>\n",
       "      <th>Veces transitadas</th>\n",
       "    </tr>\n",
       "    <tr>\n",
       "      <th>direction</th>\n",
       "      <th>origin</th>\n",
       "      <th>destination</th>\n",
       "      <th>transport_mode</th>\n",
       "      <th></th>\n",
       "    </tr>\n",
       "  </thead>\n",
       "  <tbody>\n",
       "    <tr>\n",
       "      <th rowspan=\"5\" valign=\"top\">Exports</th>\n",
       "      <th rowspan=\"5\" valign=\"top\">Australia</th>\n",
       "      <th>Brazil</th>\n",
       "      <th>Sea</th>\n",
       "      <td>112</td>\n",
       "    </tr>\n",
       "    <tr>\n",
       "      <th>Mexico</th>\n",
       "      <th>Sea</th>\n",
       "      <td>51</td>\n",
       "    </tr>\n",
       "    <tr>\n",
       "      <th>Philippines</th>\n",
       "      <th>Sea</th>\n",
       "      <td>114</td>\n",
       "    </tr>\n",
       "    <tr>\n",
       "      <th>Singapore</th>\n",
       "      <th>Sea</th>\n",
       "      <td>273</td>\n",
       "    </tr>\n",
       "    <tr>\n",
       "      <th>Thailand</th>\n",
       "      <th>Sea</th>\n",
       "      <td>200</td>\n",
       "    </tr>\n",
       "    <tr>\n",
       "      <th>...</th>\n",
       "      <th>...</th>\n",
       "      <th>...</th>\n",
       "      <th>...</th>\n",
       "      <td>...</td>\n",
       "    </tr>\n",
       "    <tr>\n",
       "      <th rowspan=\"5\" valign=\"top\">Imports</th>\n",
       "      <th rowspan=\"2\" valign=\"top\">USA</th>\n",
       "      <th>Japan</th>\n",
       "      <th>Air</th>\n",
       "      <td>22</td>\n",
       "    </tr>\n",
       "    <tr>\n",
       "      <th>Thailand</th>\n",
       "      <th>Sea</th>\n",
       "      <td>109</td>\n",
       "    </tr>\n",
       "    <tr>\n",
       "      <th>United Arab Emirates</th>\n",
       "      <th>India</th>\n",
       "      <th>Sea</th>\n",
       "      <td>20</td>\n",
       "    </tr>\n",
       "    <tr>\n",
       "      <th>United Kingdom</th>\n",
       "      <th>Canada</th>\n",
       "      <th>Sea</th>\n",
       "      <td>58</td>\n",
       "    </tr>\n",
       "    <tr>\n",
       "      <th>Vietnam</th>\n",
       "      <th>United Arab Emirates</th>\n",
       "      <th>Sea</th>\n",
       "      <td>18</td>\n",
       "    </tr>\n",
       "  </tbody>\n",
       "</table>\n",
       "<p>215 rows × 1 columns</p>\n",
       "</div>"
      ],
      "text/plain": [
       "                                                                    Veces transitadas\n",
       "direction origin               destination          transport_mode                   \n",
       "Exports   Australia            Brazil               Sea                           112\n",
       "                               Mexico               Sea                            51\n",
       "                               Philippines          Sea                           114\n",
       "                               Singapore            Sea                           273\n",
       "                               Thailand             Sea                           200\n",
       "...                                                                               ...\n",
       "Imports   USA                  Japan                Air                            22\n",
       "                               Thailand             Sea                           109\n",
       "          United Arab Emirates India                Sea                            20\n",
       "          United Kingdom       Canada               Sea                            58\n",
       "          Vietnam              United Arab Emirates Sea                            18\n",
       "\n",
       "[215 rows x 1 columns]"
      ]
     },
     "execution_count": 4,
     "metadata": {},
     "output_type": "execute_result"
    }
   ],
   "source": [
    "rutasEstablecidas=necesarioDataFrame.groupby(['direction', 'origin', 'destination', 'transport_mode']).count()\n",
    "rutasEstablecidas=rutasEstablecidas.rename(columns={'total_value' :'Veces transitadas'})\n",
    "rutasEstablecidas"
   ]
  },
  {
   "cell_type": "markdown",
   "id": "9a83f94f",
   "metadata": {},
   "source": [
    "Se ordena la información obtenida de mayor a menor"
   ]
  },
  {
   "cell_type": "code",
   "execution_count": 5,
   "id": "ddce7e94",
   "metadata": {},
   "outputs": [
    {
     "data": {
      "text/html": [
       "<div>\n",
       "<style scoped>\n",
       "    .dataframe tbody tr th:only-of-type {\n",
       "        vertical-align: middle;\n",
       "    }\n",
       "\n",
       "    .dataframe tbody tr th {\n",
       "        vertical-align: top;\n",
       "    }\n",
       "\n",
       "    .dataframe thead th {\n",
       "        text-align: right;\n",
       "    }\n",
       "</style>\n",
       "<table border=\"1\" class=\"dataframe\">\n",
       "  <thead>\n",
       "    <tr style=\"text-align: right;\">\n",
       "      <th></th>\n",
       "      <th></th>\n",
       "      <th></th>\n",
       "      <th></th>\n",
       "      <th>Veces transitadas</th>\n",
       "    </tr>\n",
       "    <tr>\n",
       "      <th>direction</th>\n",
       "      <th>origin</th>\n",
       "      <th>destination</th>\n",
       "      <th>transport_mode</th>\n",
       "      <th></th>\n",
       "    </tr>\n",
       "  </thead>\n",
       "  <tbody>\n",
       "    <tr>\n",
       "      <th rowspan=\"7\" valign=\"top\">Exports</th>\n",
       "      <th>South Korea</th>\n",
       "      <th>Vietnam</th>\n",
       "      <th>Sea</th>\n",
       "      <td>497</td>\n",
       "    </tr>\n",
       "    <tr>\n",
       "      <th>USA</th>\n",
       "      <th>Netherlands</th>\n",
       "      <th>Sea</th>\n",
       "      <td>436</td>\n",
       "    </tr>\n",
       "    <tr>\n",
       "      <th>Netherlands</th>\n",
       "      <th>Belgium</th>\n",
       "      <th>Road</th>\n",
       "      <td>374</td>\n",
       "    </tr>\n",
       "    <tr>\n",
       "      <th>China</th>\n",
       "      <th>Mexico</th>\n",
       "      <th>Air</th>\n",
       "      <td>330</td>\n",
       "    </tr>\n",
       "    <tr>\n",
       "      <th>Japan</th>\n",
       "      <th>Brazil</th>\n",
       "      <th>Sea</th>\n",
       "      <td>306</td>\n",
       "    </tr>\n",
       "    <tr>\n",
       "      <th>Germany</th>\n",
       "      <th>France</th>\n",
       "      <th>Road</th>\n",
       "      <td>299</td>\n",
       "    </tr>\n",
       "    <tr>\n",
       "      <th>South Korea</th>\n",
       "      <th>Japan</th>\n",
       "      <th>Sea</th>\n",
       "      <td>279</td>\n",
       "    </tr>\n",
       "    <tr>\n",
       "      <th>Imports</th>\n",
       "      <th>Singapore</th>\n",
       "      <th>Thailand</th>\n",
       "      <th>Sea</th>\n",
       "      <td>273</td>\n",
       "    </tr>\n",
       "    <tr>\n",
       "      <th rowspan=\"2\" valign=\"top\">Exports</th>\n",
       "      <th>Australia</th>\n",
       "      <th>Singapore</th>\n",
       "      <th>Sea</th>\n",
       "      <td>273</td>\n",
       "    </tr>\n",
       "    <tr>\n",
       "      <th>Canada</th>\n",
       "      <th>Mexico</th>\n",
       "      <th>Rail</th>\n",
       "      <td>261</td>\n",
       "    </tr>\n",
       "  </tbody>\n",
       "</table>\n",
       "</div>"
      ],
      "text/plain": [
       "                                                  Veces transitadas\n",
       "direction origin      destination transport_mode                   \n",
       "Exports   South Korea Vietnam     Sea                           497\n",
       "          USA         Netherlands Sea                           436\n",
       "          Netherlands Belgium     Road                          374\n",
       "          China       Mexico      Air                           330\n",
       "          Japan       Brazil      Sea                           306\n",
       "          Germany     France      Road                          299\n",
       "          South Korea Japan       Sea                           279\n",
       "Imports   Singapore   Thailand    Sea                           273\n",
       "Exports   Australia   Singapore   Sea                           273\n",
       "          Canada      Mexico      Rail                          261"
      ]
     },
     "execution_count": 5,
     "metadata": {},
     "output_type": "execute_result"
    }
   ],
   "source": [
    "rutasEstablecidas=rutasEstablecidas.sort_values(by='Veces transitadas', ascending=False)\n",
    "rutasEstablecidas.head(10)\n",
    "#rutasUnicas.tail(10)"
   ]
  },
  {
   "cell_type": "markdown",
   "id": "f48d38ac",
   "metadata": {},
   "source": [
    "Se clasifican las rutas.\n",
    "Primero las Exportaciones"
   ]
  },
  {
   "cell_type": "code",
   "execution_count": 6,
   "id": "9d4eb693",
   "metadata": {},
   "outputs": [
    {
     "data": {
      "text/html": [
       "<div>\n",
       "<style scoped>\n",
       "    .dataframe tbody tr th:only-of-type {\n",
       "        vertical-align: middle;\n",
       "    }\n",
       "\n",
       "    .dataframe tbody tr th {\n",
       "        vertical-align: top;\n",
       "    }\n",
       "\n",
       "    .dataframe thead th {\n",
       "        text-align: right;\n",
       "    }\n",
       "</style>\n",
       "<table border=\"1\" class=\"dataframe\">\n",
       "  <thead>\n",
       "    <tr style=\"text-align: right;\">\n",
       "      <th></th>\n",
       "      <th></th>\n",
       "      <th></th>\n",
       "      <th>Veces transitadas</th>\n",
       "    </tr>\n",
       "    <tr>\n",
       "      <th>origin</th>\n",
       "      <th>destination</th>\n",
       "      <th>transport_mode</th>\n",
       "      <th></th>\n",
       "    </tr>\n",
       "  </thead>\n",
       "  <tbody>\n",
       "    <tr>\n",
       "      <th>South Korea</th>\n",
       "      <th>Vietnam</th>\n",
       "      <th>Sea</th>\n",
       "      <td>497</td>\n",
       "    </tr>\n",
       "    <tr>\n",
       "      <th>USA</th>\n",
       "      <th>Netherlands</th>\n",
       "      <th>Sea</th>\n",
       "      <td>436</td>\n",
       "    </tr>\n",
       "    <tr>\n",
       "      <th>Netherlands</th>\n",
       "      <th>Belgium</th>\n",
       "      <th>Road</th>\n",
       "      <td>374</td>\n",
       "    </tr>\n",
       "    <tr>\n",
       "      <th>China</th>\n",
       "      <th>Mexico</th>\n",
       "      <th>Air</th>\n",
       "      <td>330</td>\n",
       "    </tr>\n",
       "    <tr>\n",
       "      <th>Japan</th>\n",
       "      <th>Brazil</th>\n",
       "      <th>Sea</th>\n",
       "      <td>306</td>\n",
       "    </tr>\n",
       "    <tr>\n",
       "      <th>Germany</th>\n",
       "      <th>France</th>\n",
       "      <th>Road</th>\n",
       "      <td>299</td>\n",
       "    </tr>\n",
       "    <tr>\n",
       "      <th>South Korea</th>\n",
       "      <th>Japan</th>\n",
       "      <th>Sea</th>\n",
       "      <td>279</td>\n",
       "    </tr>\n",
       "    <tr>\n",
       "      <th>Australia</th>\n",
       "      <th>Singapore</th>\n",
       "      <th>Sea</th>\n",
       "      <td>273</td>\n",
       "    </tr>\n",
       "    <tr>\n",
       "      <th>Canada</th>\n",
       "      <th>Mexico</th>\n",
       "      <th>Rail</th>\n",
       "      <td>261</td>\n",
       "    </tr>\n",
       "    <tr>\n",
       "      <th>China</th>\n",
       "      <th>Spain</th>\n",
       "      <th>Air</th>\n",
       "      <td>250</td>\n",
       "    </tr>\n",
       "  </tbody>\n",
       "</table>\n",
       "</div>"
      ],
      "text/plain": [
       "                                        Veces transitadas\n",
       "origin      destination transport_mode                   \n",
       "South Korea Vietnam     Sea                           497\n",
       "USA         Netherlands Sea                           436\n",
       "Netherlands Belgium     Road                          374\n",
       "China       Mexico      Air                           330\n",
       "Japan       Brazil      Sea                           306\n",
       "Germany     France      Road                          299\n",
       "South Korea Japan       Sea                           279\n",
       "Australia   Singapore   Sea                           273\n",
       "Canada      Mexico      Rail                          261\n",
       "China       Spain       Air                           250"
      ]
     },
     "execution_count": 6,
     "metadata": {},
     "output_type": "execute_result"
    }
   ],
   "source": [
    "rutasEstablecidas.xs('Exports')\n",
    "rutasEstablecidas.xs('Exports').head(10)"
   ]
  },
  {
   "cell_type": "markdown",
   "id": "eb0446d6",
   "metadata": {},
   "source": [
    "Se clasifican las rutas,\n",
    "Después las Importaciones."
   ]
  },
  {
   "cell_type": "code",
   "execution_count": 7,
   "id": "646c2cc3",
   "metadata": {},
   "outputs": [
    {
     "data": {
      "text/html": [
       "<div>\n",
       "<style scoped>\n",
       "    .dataframe tbody tr th:only-of-type {\n",
       "        vertical-align: middle;\n",
       "    }\n",
       "\n",
       "    .dataframe tbody tr th {\n",
       "        vertical-align: top;\n",
       "    }\n",
       "\n",
       "    .dataframe thead th {\n",
       "        text-align: right;\n",
       "    }\n",
       "</style>\n",
       "<table border=\"1\" class=\"dataframe\">\n",
       "  <thead>\n",
       "    <tr style=\"text-align: right;\">\n",
       "      <th></th>\n",
       "      <th></th>\n",
       "      <th></th>\n",
       "      <th>Veces transitadas</th>\n",
       "    </tr>\n",
       "    <tr>\n",
       "      <th>origin</th>\n",
       "      <th>destination</th>\n",
       "      <th>transport_mode</th>\n",
       "      <th></th>\n",
       "    </tr>\n",
       "  </thead>\n",
       "  <tbody>\n",
       "    <tr>\n",
       "      <th>Singapore</th>\n",
       "      <th>Thailand</th>\n",
       "      <th>Sea</th>\n",
       "      <td>273</td>\n",
       "    </tr>\n",
       "    <tr>\n",
       "      <th>Germany</th>\n",
       "      <th>China</th>\n",
       "      <th>Sea</th>\n",
       "      <td>233</td>\n",
       "    </tr>\n",
       "    <tr>\n",
       "      <th>China</th>\n",
       "      <th>Japan</th>\n",
       "      <th>Air</th>\n",
       "      <td>210</td>\n",
       "    </tr>\n",
       "    <tr>\n",
       "      <th>Japan</th>\n",
       "      <th>Mexico</th>\n",
       "      <th>Sea</th>\n",
       "      <td>206</td>\n",
       "    </tr>\n",
       "    <tr>\n",
       "      <th>Malaysia</th>\n",
       "      <th>Thailand</th>\n",
       "      <th>Rail</th>\n",
       "      <td>195</td>\n",
       "    </tr>\n",
       "    <tr>\n",
       "      <th>China</th>\n",
       "      <th>Thailand</th>\n",
       "      <th>Road</th>\n",
       "      <td>145</td>\n",
       "    </tr>\n",
       "    <tr>\n",
       "      <th>Spain</th>\n",
       "      <th>Germany</th>\n",
       "      <th>Road</th>\n",
       "      <td>142</td>\n",
       "    </tr>\n",
       "    <tr>\n",
       "      <th>China</th>\n",
       "      <th>United Arab Emirates</th>\n",
       "      <th>Sea</th>\n",
       "      <td>114</td>\n",
       "    </tr>\n",
       "    <tr>\n",
       "      <th>Brazil</th>\n",
       "      <th>China</th>\n",
       "      <th>Sea</th>\n",
       "      <td>113</td>\n",
       "    </tr>\n",
       "    <tr>\n",
       "      <th>USA</th>\n",
       "      <th>Thailand</th>\n",
       "      <th>Sea</th>\n",
       "      <td>109</td>\n",
       "    </tr>\n",
       "  </tbody>\n",
       "</table>\n",
       "</div>"
      ],
      "text/plain": [
       "                                               Veces transitadas\n",
       "origin    destination          transport_mode                   \n",
       "Singapore Thailand             Sea                           273\n",
       "Germany   China                Sea                           233\n",
       "China     Japan                Air                           210\n",
       "Japan     Mexico               Sea                           206\n",
       "Malaysia  Thailand             Rail                          195\n",
       "China     Thailand             Road                          145\n",
       "Spain     Germany              Road                          142\n",
       "China     United Arab Emirates Sea                           114\n",
       "Brazil    China                Sea                           113\n",
       "USA       Thailand             Sea                           109"
      ]
     },
     "execution_count": 7,
     "metadata": {},
     "output_type": "execute_result"
    }
   ],
   "source": [
    "rutasEstablecidas.xs('Imports')\n",
    "rutasEstablecidas.xs('Imports').head(10)"
   ]
  },
  {
   "cell_type": "markdown",
   "id": "86e6afba",
   "metadata": {},
   "source": [
    "Se asigna lo obtenido a una variable nombrada rutasExp"
   ]
  },
  {
   "cell_type": "code",
   "execution_count": 8,
   "id": "ffeef796",
   "metadata": {},
   "outputs": [],
   "source": [
    "rutasExp=rutasEstablecidas.xs('Exports')"
   ]
  },
  {
   "cell_type": "markdown",
   "id": "5eb6c425",
   "metadata": {},
   "source": [
    "Se asigna a una variable nombrada rutasImp"
   ]
  },
  {
   "cell_type": "code",
   "execution_count": 9,
   "id": "f70af303",
   "metadata": {},
   "outputs": [],
   "source": [
    "rutasImp=rutasEstablecidas.xs('Imports')"
   ]
  },
  {
   "cell_type": "markdown",
   "id": "d4b964a3",
   "metadata": {},
   "source": [
    "Se crea una columna llamada ruta_medio_Exp"
   ]
  },
  {
   "cell_type": "code",
   "execution_count": 10,
   "id": "b22ce710",
   "metadata": {},
   "outputs": [],
   "source": [
    "rutasExp['ruta_medio_Exp']=rutasExp.index.to_list()"
   ]
  },
  {
   "cell_type": "markdown",
   "id": "c04c9074",
   "metadata": {},
   "source": [
    "Se define una nueva función para que a la columna creada tenga como separador entre las rutas un 'guión' y 'coma' para los medios de transporte"
   ]
  },
  {
   "cell_type": "code",
   "execution_count": 11,
   "id": "c6deb811",
   "metadata": {},
   "outputs": [],
   "source": [
    "def nombre_ruta_medio(lista):\n",
    "    nombre=f'{lista[0]} - {lista[1]},{lista[2]}'\n",
    "    return nombre\n",
    "\n",
    "rutasExp['ruta_medio_Exp'] = rutasExp['ruta_medio_Exp'].apply(nombre_ruta_medio)"
   ]
  },
  {
   "cell_type": "markdown",
   "id": "aa7d5d7d",
   "metadata": {},
   "source": [
    "Se despliegan las 10 rutas de Exportación más demandadas"
   ]
  },
  {
   "cell_type": "code",
   "execution_count": 12,
   "id": "4c68054c",
   "metadata": {
    "scrolled": false
   },
   "outputs": [
    {
     "data": {
      "text/html": [
       "<div>\n",
       "<style scoped>\n",
       "    .dataframe tbody tr th:only-of-type {\n",
       "        vertical-align: middle;\n",
       "    }\n",
       "\n",
       "    .dataframe tbody tr th {\n",
       "        vertical-align: top;\n",
       "    }\n",
       "\n",
       "    .dataframe thead th {\n",
       "        text-align: right;\n",
       "    }\n",
       "</style>\n",
       "<table border=\"1\" class=\"dataframe\">\n",
       "  <thead>\n",
       "    <tr style=\"text-align: right;\">\n",
       "      <th></th>\n",
       "      <th></th>\n",
       "      <th></th>\n",
       "      <th>Veces transitadas</th>\n",
       "      <th>ruta_medio_Exp</th>\n",
       "    </tr>\n",
       "    <tr>\n",
       "      <th>origin</th>\n",
       "      <th>destination</th>\n",
       "      <th>transport_mode</th>\n",
       "      <th></th>\n",
       "      <th></th>\n",
       "    </tr>\n",
       "  </thead>\n",
       "  <tbody>\n",
       "    <tr>\n",
       "      <th>South Korea</th>\n",
       "      <th>Vietnam</th>\n",
       "      <th>Sea</th>\n",
       "      <td>497</td>\n",
       "      <td>South Korea - Vietnam,Sea</td>\n",
       "    </tr>\n",
       "    <tr>\n",
       "      <th>USA</th>\n",
       "      <th>Netherlands</th>\n",
       "      <th>Sea</th>\n",
       "      <td>436</td>\n",
       "      <td>USA - Netherlands,Sea</td>\n",
       "    </tr>\n",
       "    <tr>\n",
       "      <th>Netherlands</th>\n",
       "      <th>Belgium</th>\n",
       "      <th>Road</th>\n",
       "      <td>374</td>\n",
       "      <td>Netherlands - Belgium,Road</td>\n",
       "    </tr>\n",
       "    <tr>\n",
       "      <th>China</th>\n",
       "      <th>Mexico</th>\n",
       "      <th>Air</th>\n",
       "      <td>330</td>\n",
       "      <td>China - Mexico,Air</td>\n",
       "    </tr>\n",
       "    <tr>\n",
       "      <th>Japan</th>\n",
       "      <th>Brazil</th>\n",
       "      <th>Sea</th>\n",
       "      <td>306</td>\n",
       "      <td>Japan - Brazil,Sea</td>\n",
       "    </tr>\n",
       "    <tr>\n",
       "      <th>Germany</th>\n",
       "      <th>France</th>\n",
       "      <th>Road</th>\n",
       "      <td>299</td>\n",
       "      <td>Germany - France,Road</td>\n",
       "    </tr>\n",
       "    <tr>\n",
       "      <th>South Korea</th>\n",
       "      <th>Japan</th>\n",
       "      <th>Sea</th>\n",
       "      <td>279</td>\n",
       "      <td>South Korea - Japan,Sea</td>\n",
       "    </tr>\n",
       "    <tr>\n",
       "      <th>Australia</th>\n",
       "      <th>Singapore</th>\n",
       "      <th>Sea</th>\n",
       "      <td>273</td>\n",
       "      <td>Australia - Singapore,Sea</td>\n",
       "    </tr>\n",
       "    <tr>\n",
       "      <th>Canada</th>\n",
       "      <th>Mexico</th>\n",
       "      <th>Rail</th>\n",
       "      <td>261</td>\n",
       "      <td>Canada - Mexico,Rail</td>\n",
       "    </tr>\n",
       "    <tr>\n",
       "      <th>China</th>\n",
       "      <th>Spain</th>\n",
       "      <th>Air</th>\n",
       "      <td>250</td>\n",
       "      <td>China - Spain,Air</td>\n",
       "    </tr>\n",
       "  </tbody>\n",
       "</table>\n",
       "</div>"
      ],
      "text/plain": [
       "                                        Veces transitadas  \\\n",
       "origin      destination transport_mode                      \n",
       "South Korea Vietnam     Sea                           497   \n",
       "USA         Netherlands Sea                           436   \n",
       "Netherlands Belgium     Road                          374   \n",
       "China       Mexico      Air                           330   \n",
       "Japan       Brazil      Sea                           306   \n",
       "Germany     France      Road                          299   \n",
       "South Korea Japan       Sea                           279   \n",
       "Australia   Singapore   Sea                           273   \n",
       "Canada      Mexico      Rail                          261   \n",
       "China       Spain       Air                           250   \n",
       "\n",
       "                                                    ruta_medio_Exp  \n",
       "origin      destination transport_mode                              \n",
       "South Korea Vietnam     Sea              South Korea - Vietnam,Sea  \n",
       "USA         Netherlands Sea                  USA - Netherlands,Sea  \n",
       "Netherlands Belgium     Road            Netherlands - Belgium,Road  \n",
       "China       Mexico      Air                     China - Mexico,Air  \n",
       "Japan       Brazil      Sea                     Japan - Brazil,Sea  \n",
       "Germany     France      Road                 Germany - France,Road  \n",
       "South Korea Japan       Sea                South Korea - Japan,Sea  \n",
       "Australia   Singapore   Sea              Australia - Singapore,Sea  \n",
       "Canada      Mexico      Rail                  Canada - Mexico,Rail  \n",
       "China       Spain       Air                      China - Spain,Air  "
      ]
     },
     "execution_count": 12,
     "metadata": {},
     "output_type": "execute_result"
    }
   ],
   "source": [
    "rutasExp.head(10)"
   ]
  },
  {
   "cell_type": "markdown",
   "id": "c6f4577e",
   "metadata": {},
   "source": [
    "Se crea una columna con la ruta y el medio de transporte"
   ]
  },
  {
   "cell_type": "code",
   "execution_count": 13,
   "id": "a4556e88",
   "metadata": {},
   "outputs": [],
   "source": [
    "rutasImp['ruta_medio_Imp']=rutasImp.index.to_list()"
   ]
  },
  {
   "cell_type": "code",
   "execution_count": 14,
   "id": "7dffc4a0",
   "metadata": {},
   "outputs": [],
   "source": [
    "rutasImp['ruta_medio_Imp'] = rutasImp['ruta_medio_Imp'].apply(nombre_ruta_medio)"
   ]
  },
  {
   "cell_type": "markdown",
   "id": "56fc8197",
   "metadata": {},
   "source": [
    "Se despliegan las 10 rutas de Importacion más demandadas"
   ]
  },
  {
   "cell_type": "code",
   "execution_count": 15,
   "id": "940b9a7d",
   "metadata": {},
   "outputs": [
    {
     "data": {
      "text/html": [
       "<div>\n",
       "<style scoped>\n",
       "    .dataframe tbody tr th:only-of-type {\n",
       "        vertical-align: middle;\n",
       "    }\n",
       "\n",
       "    .dataframe tbody tr th {\n",
       "        vertical-align: top;\n",
       "    }\n",
       "\n",
       "    .dataframe thead th {\n",
       "        text-align: right;\n",
       "    }\n",
       "</style>\n",
       "<table border=\"1\" class=\"dataframe\">\n",
       "  <thead>\n",
       "    <tr style=\"text-align: right;\">\n",
       "      <th></th>\n",
       "      <th></th>\n",
       "      <th></th>\n",
       "      <th>Veces transitadas</th>\n",
       "      <th>ruta_medio_Imp</th>\n",
       "    </tr>\n",
       "    <tr>\n",
       "      <th>origin</th>\n",
       "      <th>destination</th>\n",
       "      <th>transport_mode</th>\n",
       "      <th></th>\n",
       "      <th></th>\n",
       "    </tr>\n",
       "  </thead>\n",
       "  <tbody>\n",
       "    <tr>\n",
       "      <th>Singapore</th>\n",
       "      <th>Thailand</th>\n",
       "      <th>Sea</th>\n",
       "      <td>273</td>\n",
       "      <td>Singapore - Thailand,Sea</td>\n",
       "    </tr>\n",
       "    <tr>\n",
       "      <th>Germany</th>\n",
       "      <th>China</th>\n",
       "      <th>Sea</th>\n",
       "      <td>233</td>\n",
       "      <td>Germany - China,Sea</td>\n",
       "    </tr>\n",
       "    <tr>\n",
       "      <th>China</th>\n",
       "      <th>Japan</th>\n",
       "      <th>Air</th>\n",
       "      <td>210</td>\n",
       "      <td>China - Japan,Air</td>\n",
       "    </tr>\n",
       "    <tr>\n",
       "      <th>Japan</th>\n",
       "      <th>Mexico</th>\n",
       "      <th>Sea</th>\n",
       "      <td>206</td>\n",
       "      <td>Japan - Mexico,Sea</td>\n",
       "    </tr>\n",
       "    <tr>\n",
       "      <th>Malaysia</th>\n",
       "      <th>Thailand</th>\n",
       "      <th>Rail</th>\n",
       "      <td>195</td>\n",
       "      <td>Malaysia - Thailand,Rail</td>\n",
       "    </tr>\n",
       "    <tr>\n",
       "      <th>China</th>\n",
       "      <th>Thailand</th>\n",
       "      <th>Road</th>\n",
       "      <td>145</td>\n",
       "      <td>China - Thailand,Road</td>\n",
       "    </tr>\n",
       "    <tr>\n",
       "      <th>Spain</th>\n",
       "      <th>Germany</th>\n",
       "      <th>Road</th>\n",
       "      <td>142</td>\n",
       "      <td>Spain - Germany,Road</td>\n",
       "    </tr>\n",
       "    <tr>\n",
       "      <th>China</th>\n",
       "      <th>United Arab Emirates</th>\n",
       "      <th>Sea</th>\n",
       "      <td>114</td>\n",
       "      <td>China - United Arab Emirates,Sea</td>\n",
       "    </tr>\n",
       "    <tr>\n",
       "      <th>Brazil</th>\n",
       "      <th>China</th>\n",
       "      <th>Sea</th>\n",
       "      <td>113</td>\n",
       "      <td>Brazil - China,Sea</td>\n",
       "    </tr>\n",
       "    <tr>\n",
       "      <th>USA</th>\n",
       "      <th>Thailand</th>\n",
       "      <th>Sea</th>\n",
       "      <td>109</td>\n",
       "      <td>USA - Thailand,Sea</td>\n",
       "    </tr>\n",
       "  </tbody>\n",
       "</table>\n",
       "</div>"
      ],
      "text/plain": [
       "                                               Veces transitadas  \\\n",
       "origin    destination          transport_mode                      \n",
       "Singapore Thailand             Sea                           273   \n",
       "Germany   China                Sea                           233   \n",
       "China     Japan                Air                           210   \n",
       "Japan     Mexico               Sea                           206   \n",
       "Malaysia  Thailand             Rail                          195   \n",
       "China     Thailand             Road                          145   \n",
       "Spain     Germany              Road                          142   \n",
       "China     United Arab Emirates Sea                           114   \n",
       "Brazil    China                Sea                           113   \n",
       "USA       Thailand             Sea                           109   \n",
       "\n",
       "                                                                 ruta_medio_Imp  \n",
       "origin    destination          transport_mode                                    \n",
       "Singapore Thailand             Sea                     Singapore - Thailand,Sea  \n",
       "Germany   China                Sea                          Germany - China,Sea  \n",
       "China     Japan                Air                            China - Japan,Air  \n",
       "Japan     Mexico               Sea                           Japan - Mexico,Sea  \n",
       "Malaysia  Thailand             Rail                    Malaysia - Thailand,Rail  \n",
       "China     Thailand             Road                       China - Thailand,Road  \n",
       "Spain     Germany              Road                        Spain - Germany,Road  \n",
       "China     United Arab Emirates Sea             China - United Arab Emirates,Sea  \n",
       "Brazil    China                Sea                           Brazil - China,Sea  \n",
       "USA       Thailand             Sea                           USA - Thailand,Sea  "
      ]
     },
     "execution_count": 15,
     "metadata": {},
     "output_type": "execute_result"
    }
   ],
   "source": [
    "rutasImp.head(10)"
   ]
  },
  {
   "cell_type": "code",
   "execution_count": 16,
   "id": "59e01acd",
   "metadata": {},
   "outputs": [
    {
     "data": {
      "text/plain": [
       "<AxesSubplot:xlabel='ruta_medio_Exp', ylabel='Veces transitadas'>"
      ]
     },
     "execution_count": 16,
     "metadata": {},
     "output_type": "execute_result"
    },
    {
     "data": {
      "image/png": "[encoded data removed]",
      "text/plain": [
       "<Figure size 2736x1152 with 1 Axes>"
      ]
     },
     "metadata": {},
     "output_type": "display_data"
    }
   ],
   "source": [
    "sns.set(rc={\"figure.figsize\":(38,16)})\n",
    "sns.barplot(data=rutasExp.head(10),x='ruta_medio_Exp', y='Veces transitadas')"
   ]
  },
  {
   "cell_type": "code",
   "execution_count": 17,
   "id": "5cfad51b",
   "metadata": {},
   "outputs": [
    {
     "data": {
      "text/plain": [
       "<AxesSubplot:xlabel='ruta_medio_Imp', ylabel='Veces transitadas'>"
      ]
     },
     "execution_count": 17,
     "metadata": {},
     "output_type": "execute_result"
    },
    {
     "data": {
      "image/png": "[encoded data removed]",
      "text/plain": [
       "<Figure size 2736x1152 with 1 Axes>"
      ]
     },
     "metadata": {},
     "output_type": "display_data"
    }
   ],
   "source": [
    "sns.set(rc={\"figure.figsize\":(38,16)})\n",
    "sns.barplot(data=rutasImp.head(10),x='ruta_medio_Imp', y='Veces transitadas')"
   ]
  },
  {
   "cell_type": "markdown",
   "id": "2febd4de",
   "metadata": {},
   "source": [
    "Opción 2"
   ]
  },
  {
   "cell_type": "markdown",
   "id": "98a886d2",
   "metadata": {},
   "source": [
    "Se crean grupos y se cuentan los medios de transporte.\n",
    "Después se ordenan de mayor a menor"
   ]
  },
  {
   "cell_type": "code",
   "execution_count": 18,
   "id": "2f51644f",
   "metadata": {},
   "outputs": [
    {
     "data": {
      "text/html": [
       "<div>\n",
       "<style scoped>\n",
       "    .dataframe tbody tr th:only-of-type {\n",
       "        vertical-align: middle;\n",
       "    }\n",
       "\n",
       "    .dataframe tbody tr th {\n",
       "        vertical-align: top;\n",
       "    }\n",
       "\n",
       "    .dataframe thead th {\n",
       "        text-align: right;\n",
       "    }\n",
       "</style>\n",
       "<table border=\"1\" class=\"dataframe\">\n",
       "  <thead>\n",
       "    <tr style=\"text-align: right;\">\n",
       "      <th></th>\n",
       "      <th>direction</th>\n",
       "      <th>origin</th>\n",
       "      <th>destination</th>\n",
       "      <th>year</th>\n",
       "      <th>date</th>\n",
       "      <th>product</th>\n",
       "      <th>company_name</th>\n",
       "      <th>total_value</th>\n",
       "    </tr>\n",
       "    <tr>\n",
       "      <th>transport_mode</th>\n",
       "      <th></th>\n",
       "      <th></th>\n",
       "      <th></th>\n",
       "      <th></th>\n",
       "      <th></th>\n",
       "      <th></th>\n",
       "      <th></th>\n",
       "      <th></th>\n",
       "    </tr>\n",
       "  </thead>\n",
       "  <tbody>\n",
       "    <tr>\n",
       "      <th>Sea</th>\n",
       "      <td>10688</td>\n",
       "      <td>10688</td>\n",
       "      <td>10688</td>\n",
       "      <td>10688</td>\n",
       "      <td>10688</td>\n",
       "      <td>10688</td>\n",
       "      <td>10688</td>\n",
       "      <td>10688</td>\n",
       "    </tr>\n",
       "    <tr>\n",
       "      <th>Rail</th>\n",
       "      <td>3381</td>\n",
       "      <td>3381</td>\n",
       "      <td>3381</td>\n",
       "      <td>3381</td>\n",
       "      <td>3381</td>\n",
       "      <td>3381</td>\n",
       "      <td>3381</td>\n",
       "      <td>3381</td>\n",
       "    </tr>\n",
       "    <tr>\n",
       "      <th>Road</th>\n",
       "      <td>2598</td>\n",
       "      <td>2598</td>\n",
       "      <td>2598</td>\n",
       "      <td>2598</td>\n",
       "      <td>2598</td>\n",
       "      <td>2598</td>\n",
       "      <td>2598</td>\n",
       "      <td>2598</td>\n",
       "    </tr>\n",
       "    <tr>\n",
       "      <th>Air</th>\n",
       "      <td>2389</td>\n",
       "      <td>2389</td>\n",
       "      <td>2389</td>\n",
       "      <td>2389</td>\n",
       "      <td>2389</td>\n",
       "      <td>2389</td>\n",
       "      <td>2389</td>\n",
       "      <td>2389</td>\n",
       "    </tr>\n",
       "  </tbody>\n",
       "</table>\n",
       "</div>"
      ],
      "text/plain": [
       "                direction  origin  destination   year   date  product  \\\n",
       "transport_mode                                                          \n",
       "Sea                 10688   10688        10688  10688  10688    10688   \n",
       "Rail                 3381    3381         3381   3381   3381     3381   \n",
       "Road                 2598    2598         2598   2598   2598     2598   \n",
       "Air                  2389    2389         2389   2389   2389     2389   \n",
       "\n",
       "                company_name  total_value  \n",
       "transport_mode                             \n",
       "Sea                    10688        10688  \n",
       "Rail                    3381         3381  \n",
       "Road                    2598         2598  \n",
       "Air                     2389         2389  "
      ]
     },
     "execution_count": 18,
     "metadata": {},
     "output_type": "execute_result"
    }
   ],
   "source": [
    "s=synergyDataFrame.groupby('transport_mode').count()\n",
    "desc=s.sort_values('total_value',ascending = False)\n",
    "desc"
   ]
  },
  {
   "cell_type": "markdown",
   "id": "bd306692",
   "metadata": {},
   "source": [
    "Se muestran los tres medios de transporte más importantes, \n",
    "considerando el valor de sus importaciones y exportaciones"
   ]
  },
  {
   "cell_type": "code",
   "execution_count": 19,
   "id": "e8c3216a",
   "metadata": {},
   "outputs": [
    {
     "data": {
      "text/html": [
       "<div>\n",
       "<style scoped>\n",
       "    .dataframe tbody tr th:only-of-type {\n",
       "        vertical-align: middle;\n",
       "    }\n",
       "\n",
       "    .dataframe tbody tr th {\n",
       "        vertical-align: top;\n",
       "    }\n",
       "\n",
       "    .dataframe thead th {\n",
       "        text-align: right;\n",
       "    }\n",
       "</style>\n",
       "<table border=\"1\" class=\"dataframe\">\n",
       "  <thead>\n",
       "    <tr style=\"text-align: right;\">\n",
       "      <th></th>\n",
       "      <th>direction</th>\n",
       "      <th>origin</th>\n",
       "      <th>destination</th>\n",
       "      <th>year</th>\n",
       "      <th>date</th>\n",
       "      <th>product</th>\n",
       "      <th>company_name</th>\n",
       "      <th>total_value</th>\n",
       "    </tr>\n",
       "    <tr>\n",
       "      <th>transport_mode</th>\n",
       "      <th></th>\n",
       "      <th></th>\n",
       "      <th></th>\n",
       "      <th></th>\n",
       "      <th></th>\n",
       "      <th></th>\n",
       "      <th></th>\n",
       "      <th></th>\n",
       "    </tr>\n",
       "  </thead>\n",
       "  <tbody>\n",
       "    <tr>\n",
       "      <th>Sea</th>\n",
       "      <td>10688</td>\n",
       "      <td>10688</td>\n",
       "      <td>10688</td>\n",
       "      <td>10688</td>\n",
       "      <td>10688</td>\n",
       "      <td>10688</td>\n",
       "      <td>10688</td>\n",
       "      <td>10688</td>\n",
       "    </tr>\n",
       "    <tr>\n",
       "      <th>Rail</th>\n",
       "      <td>3381</td>\n",
       "      <td>3381</td>\n",
       "      <td>3381</td>\n",
       "      <td>3381</td>\n",
       "      <td>3381</td>\n",
       "      <td>3381</td>\n",
       "      <td>3381</td>\n",
       "      <td>3381</td>\n",
       "    </tr>\n",
       "    <tr>\n",
       "      <th>Road</th>\n",
       "      <td>2598</td>\n",
       "      <td>2598</td>\n",
       "      <td>2598</td>\n",
       "      <td>2598</td>\n",
       "      <td>2598</td>\n",
       "      <td>2598</td>\n",
       "      <td>2598</td>\n",
       "      <td>2598</td>\n",
       "    </tr>\n",
       "  </tbody>\n",
       "</table>\n",
       "</div>"
      ],
      "text/plain": [
       "                direction  origin  destination   year   date  product  \\\n",
       "transport_mode                                                          \n",
       "Sea                 10688   10688        10688  10688  10688    10688   \n",
       "Rail                 3381    3381         3381   3381   3381     3381   \n",
       "Road                 2598    2598         2598   2598   2598     2598   \n",
       "\n",
       "                company_name  total_value  \n",
       "transport_mode                             \n",
       "Sea                    10688        10688  \n",
       "Rail                    3381         3381  \n",
       "Road                    2598         2598  "
      ]
     },
     "execution_count": 19,
     "metadata": {},
     "output_type": "execute_result"
    }
   ],
   "source": [
    "x=desc.head(3)\n",
    "x"
   ]
  },
  {
   "cell_type": "markdown",
   "id": "2ded2232",
   "metadata": {},
   "source": [
    "Se grafican los tres medios de transporte más importantes"
   ]
  },
  {
   "cell_type": "code",
   "execution_count": 20,
   "id": "65ff302e",
   "metadata": {},
   "outputs": [
    {
     "data": {
      "text/plain": [
       "<AxesSubplot:xlabel='transport_mode', ylabel='direction'>"
      ]
     },
     "execution_count": 20,
     "metadata": {},
     "output_type": "execute_result"
    },
    {
     "data": {
      "image/png": "[encoded data removed]",
      "text/plain": [
       "<Figure size 576x432 with 1 Axes>"
      ]
     },
     "metadata": {},
     "output_type": "display_data"
    }
   ],
   "source": [
    "data = x\n",
    "sns.set(rc={\"figure.figsize\": (8, 6)})  \n",
    "sns.barplot(data=data, y='direction', x=data.index)"
   ]
  },
  {
   "cell_type": "markdown",
   "id": "53e8351c",
   "metadata": {},
   "source": [
    "Punto 3"
   ]
  },
  {
   "cell_type": "markdown",
   "id": "a07d5088",
   "metadata": {},
   "source": [
    "Se crea un grupos en función al tipo de envío,\n",
    "Después se ordenan de mayor a menor"
   ]
  },
  {
   "cell_type": "code",
   "execution_count": 21,
   "id": "870d5dcf",
   "metadata": {},
   "outputs": [],
   "source": [
    "paisValor = synergyDataFrame.groupby(['direction', 'origin']).sum()\n",
    "paisValor = paisValor.sort_values(by=['total_value'], ascending=False)\n",
    "\n",
    "expPaisValor = paisValor.xs('Exports')\n",
    "impPaisValor = paisValor.xs('Imports')"
   ]
  },
  {
   "cell_type": "markdown",
   "id": "cb9c90dc",
   "metadata": {},
   "source": [
    "Se calcula el porcentaje por pais y exportación"
   ]
  },
  {
   "cell_type": "code",
   "execution_count": 22,
   "id": "75218559",
   "metadata": {},
   "outputs": [
    {
     "data": {
      "text/plain": [
       "origin\n",
       "China              20.589640\n",
       "France             32.211736\n",
       "USA                43.672105\n",
       "South Korea        52.801004\n",
       "Russia             61.056953\n",
       "Japan              68.517449\n",
       "Germany            75.599741\n",
       "Canada             82.270433\n",
       "Italy              85.621191\n",
       "Netherlands        88.193796\n",
       "Spain              90.327868\n",
       "United Kingdom     92.062105\n",
       "India              93.701682\n",
       "Belgium            95.317533\n",
       "Brazil             96.737334\n",
       "Switzerland        98.082211\n",
       "Australia          99.112410\n",
       "Mexico             99.998852\n",
       "Austria            99.999573\n",
       "Singapore         100.000000\n",
       "Name: total_value, dtype: float64"
      ]
     },
     "execution_count": 22,
     "metadata": {},
     "output_type": "execute_result"
    }
   ],
   "source": [
    "total=expPaisValor.total_value.cumsum()\n",
    "parte=expPaisValor.total_value.sum()\n",
    "\n",
    "def percentage(percent, whole): \n",
    "    return (percent * whole) / parte\n",
    "expPaisValor=percentage(100, total)\n",
    "expPaisValor"
   ]
  },
  {
   "cell_type": "markdown",
   "id": "bbf81c92",
   "metadata": {},
   "source": [
    "Se despliegan los paises que conforman el 80% de las importaciones y exportaciones"
   ]
  },
  {
   "cell_type": "markdown",
   "id": "2ad55235",
   "metadata": {},
   "source": [
    "EXPORTACIONES:"
   ]
  },
  {
   "cell_type": "code",
   "execution_count": 23,
   "id": "6534346c",
   "metadata": {},
   "outputs": [
    {
     "data": {
      "text/plain": [
       "origin\n",
       "China          20.589640\n",
       "France         32.211736\n",
       "USA            43.672105\n",
       "South Korea    52.801004\n",
       "Russia         61.056953\n",
       "Japan          68.517449\n",
       "Germany        75.599741\n",
       "Name: total_value, dtype: float64"
      ]
     },
     "execution_count": 23,
     "metadata": {},
     "output_type": "execute_result"
    }
   ],
   "source": [
    "top_80 = expPaisValor[expPaisValor <=80]\n",
    "top_80"
   ]
  },
  {
   "cell_type": "markdown",
   "id": "779b4f95",
   "metadata": {},
   "source": [
    "Se calcula el porcentaje por pais e importación"
   ]
  },
  {
   "cell_type": "code",
   "execution_count": 24,
   "id": "20c0292b",
   "metadata": {
    "scrolled": true
   },
   "outputs": [
    {
     "data": {
      "text/plain": [
       "origin\n",
       "China                    22.030327\n",
       "Japan                    36.606757\n",
       "USA                      46.135283\n",
       "Mexico                   54.457211\n",
       "Germany                  62.111007\n",
       "Singapore                69.345195\n",
       "South Korea              76.348869\n",
       "Malaysia                 82.760049\n",
       "Spain                    88.164530\n",
       "France                   90.534505\n",
       "Italy                    92.818038\n",
       "Australia                94.474860\n",
       "Russia                   96.007420\n",
       "Canada                   97.032128\n",
       "Vietnam                  98.004610\n",
       "Brazil                   98.885247\n",
       "United Arab Emirates     99.553378\n",
       "United Kingdom          100.000000\n",
       "Name: total_value, dtype: float64"
      ]
     },
     "execution_count": 24,
     "metadata": {},
     "output_type": "execute_result"
    }
   ],
   "source": [
    "total=impPaisValor.total_value.cumsum()\n",
    "parte=impPaisValor.total_value.sum()\n",
    "\n",
    "def percentage(percent, whole): \n",
    "    return (percent * whole) / parte\n",
    "impPaisValor=percentage(100, total)\n",
    "impPaisValor"
   ]
  },
  {
   "cell_type": "markdown",
   "id": "5506c381",
   "metadata": {},
   "source": [
    "IMPORTACIONES:"
   ]
  },
  {
   "cell_type": "code",
   "execution_count": 25,
   "id": "8935f098",
   "metadata": {},
   "outputs": [
    {
     "data": {
      "text/plain": [
       "origin\n",
       "China          22.030327\n",
       "Japan          36.606757\n",
       "USA            46.135283\n",
       "Mexico         54.457211\n",
       "Germany        62.111007\n",
       "Singapore      69.345195\n",
       "South Korea    76.348869\n",
       "Name: total_value, dtype: float64"
      ]
     },
     "execution_count": 25,
     "metadata": {},
     "output_type": "execute_result"
    }
   ],
   "source": [
    "top_80 = impPaisValor[impPaisValor <=80]\n",
    "top_80"
   ]
  },
  {
   "cell_type": "code",
   "execution_count": null,
   "id": "54bd76b7",
   "metadata": {},
   "outputs": [],
   "source": []
  },
  {
   "cell_type": "code",
   "execution_count": null,
   "id": "501f109f",
   "metadata": {},
   "outputs": [],
   "source": []
  },
  {
   "cell_type": "code",
   "execution_count": null,
   "id": "191a42ed",
   "metadata": {},
   "outputs": [],
   "source": []
  },
  {
   "cell_type": "code",
   "execution_count": null,
   "id": "eed25534",
   "metadata": {},
   "outputs": [],
   "source": []
  },
  {
   "cell_type": "code",
   "execution_count": null,
   "id": "5f9e3928",
   "metadata": {},
   "outputs": [],
   "source": []
  }
 ],
 "metadata": {
  "kernelspec": {
   "display_name": "Python 3 (ipykernel)",
   "language": "python",
   "name": "python3"
  },
  "language_info": {
   "codemirror_mode": {
    "name": "ipython",
    "version": 3
   },
   "file_extension": ".py",
   "mimetype": "text/x-python",
   "name": "python",
   "nbconvert_exporter": "python",
   "pygments_lexer": "ipython3",
   "version": "3.8.8"
  }
 },
 "nbformat": 4,
 "nbformat_minor": 5
}
